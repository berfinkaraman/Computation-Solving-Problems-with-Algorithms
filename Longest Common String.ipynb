{
 "cells": [
  {
   "cell_type": "code",
   "execution_count": 1,
   "metadata": {
    "collapsed": false
   },
   "outputs": [
    {
     "data": {
      "text/html": [
       "<div>\n",
       "<style scoped>\n",
       "    .dataframe tbody tr th:only-of-type {\n",
       "        vertical-align: middle;\n",
       "    }\n",
       "\n",
       "    .dataframe tbody tr th {\n",
       "        vertical-align: top;\n",
       "    }\n",
       "\n",
       "    .dataframe thead th {\n",
       "        text-align: right;\n",
       "    }\n",
       "</style>\n",
       "<table border=\"1\" class=\"dataframe\">\n",
       "  <thead>\n",
       "    <tr style=\"text-align: right;\">\n",
       "      <th></th>\n",
       "      <th>0</th>\n",
       "      <th>1</th>\n",
       "      <th>2</th>\n",
       "      <th>3</th>\n",
       "      <th>4</th>\n",
       "      <th>5</th>\n",
       "      <th>6</th>\n",
       "    </tr>\n",
       "  </thead>\n",
       "  <tbody>\n",
       "    <tr>\n",
       "      <th>0</th>\n",
       "      <td>100</td>\n",
       "      <td>74</td>\n",
       "      <td>76</td>\n",
       "      <td>73</td>\n",
       "      <td>82</td>\n",
       "      <td>84</td>\n",
       "      <td>91</td>\n",
       "    </tr>\n",
       "    <tr>\n",
       "      <th>1</th>\n",
       "      <td>74</td>\n",
       "      <td>90</td>\n",
       "      <td>67</td>\n",
       "      <td>72</td>\n",
       "      <td>80</td>\n",
       "      <td>70</td>\n",
       "      <td>71</td>\n",
       "    </tr>\n",
       "    <tr>\n",
       "      <th>2</th>\n",
       "      <td>76</td>\n",
       "      <td>67</td>\n",
       "      <td>97</td>\n",
       "      <td>65</td>\n",
       "      <td>69</td>\n",
       "      <td>81</td>\n",
       "      <td>84</td>\n",
       "    </tr>\n",
       "    <tr>\n",
       "      <th>3</th>\n",
       "      <td>73</td>\n",
       "      <td>72</td>\n",
       "      <td>65</td>\n",
       "      <td>96</td>\n",
       "      <td>81</td>\n",
       "      <td>71</td>\n",
       "      <td>69</td>\n",
       "    </tr>\n",
       "    <tr>\n",
       "      <th>4</th>\n",
       "      <td>82</td>\n",
       "      <td>80</td>\n",
       "      <td>69</td>\n",
       "      <td>81</td>\n",
       "      <td>96</td>\n",
       "      <td>74</td>\n",
       "      <td>75</td>\n",
       "    </tr>\n",
       "    <tr>\n",
       "      <th>5</th>\n",
       "      <td>84</td>\n",
       "      <td>70</td>\n",
       "      <td>81</td>\n",
       "      <td>71</td>\n",
       "      <td>74</td>\n",
       "      <td>111</td>\n",
       "      <td>97</td>\n",
       "    </tr>\n",
       "    <tr>\n",
       "      <th>6</th>\n",
       "      <td>91</td>\n",
       "      <td>71</td>\n",
       "      <td>84</td>\n",
       "      <td>69</td>\n",
       "      <td>75</td>\n",
       "      <td>97</td>\n",
       "      <td>104</td>\n",
       "    </tr>\n",
       "  </tbody>\n",
       "</table>\n",
       "</div>"
      ]
     },
     "execution_count": 1,
     "metadata": {
     },
     "output_type": "execute_result"
    }
   ],
   "source": [
    "#1.Write python code to give the length of the longest common subsequence for two strings.\n",
    "\n",
    "import pandas\n",
    "import numpy\n",
    "\n",
    "#defining longest common subsequence algorithm\n",
    "#it takes tow string as the input to be compared\n",
    "def lcs(A , B):\n",
    "    #finding the lengths of each string\n",
    "    M = len(A) \n",
    "    N = len(B) \n",
    "    #creating a list that has sublists so we can store the solutions of the overlapping subproblems\n",
    "    #this approch will help us to implement dynamic programing thus it will be more time efficient than recursive approach\n",
    "    memo = [[None]*(N+1) for i in range(M+1)] \n",
    "    #creating nested for loops to aproch the problem from a bottom up approach\n",
    "    for i in range(M+1):\n",
    "        for j in range(N+1):\n",
    "            #defining the empty common subsequence and assigning the value as 0 \n",
    "            if i == 0 or j == 0 :\n",
    "                memo[i][j] = 0\n",
    "            #checking the cases the last values of each string matche and increase the length by 1\n",
    "            elif A[i-1] == B[j-1]: \n",
    "                memo[i][j] = memo[i-1][j-1]+1\n",
    "            #cheking if the last values doesn't match and the subsequence is not empty, gives the length of maximum matching value\n",
    "            else:\n",
    "                memo[i][j] = max(memo[i-1][j] , memo[i][j-1])\n",
    "    #returns to the maximum length of the common subsequence\n",
    "    return (memo[M][N]) \n",
    "\n",
    "#2.Generate the table of the lengths of the longest common subsequences for every pair of strings.\n",
    "\n",
    "#entering the values for the strings\n",
    "A = \"CAGCGGGTGCGTAATTTGGAGAAGTTATTCTGCAACGAAATCAATCCTGTTTCGTTAGCTTACGGACTACGACGAGAGGGTACTTCCCTGATATAGTCAC\"\n",
    "B = \"CAAGTCGGGCGTATTGGAGAATATTTAAATCGGAAGATCATGTTACTATGCGTTAGCTCACGGACTGAAGAGGATTCTCTCTTAATGCAA\"\n",
    "C = 'CATGGGTGCGTCGATTTTGGCAGTAAAGTGGAATCGTCAGATATCAATCCTGTTTCGTAGAAAGGAGCTACCTAGAGAGGATTACTCTCACATAGTA'\n",
    "D = 'CAAGTCCGCGATAAATTGGAATATTTGTCAATCGGAATAGTCAACTTAGCTGGCGTTAGCTTTACGACTGACAGAGAGAAACCTGTCCATCACACA'\n",
    "E = 'CAAGTCCGGCGTAATTGGAGAATATTTTGCAATCGGAAGATCAATCTTGTTAGCGTTAGCTTACGACTGACGAGAGGGATACTCTCTCTAATACAA'\n",
    "F = 'CACGGGCTCCGCAATTTTGGGTCAAGTTGCATATCAGTCATCGACAATCAAACACTGTTTTGCGGTAGATAAGATACGACTGAGAGAGGACGTTCGCTCGAATATAGTTAC'\n",
    "G = 'CACGGGTCCGTCAATTTTGGAGTAAGTTGATATCGTCACGAAATCAATCCTGTTTCGGTAGTATAGGACTACGACGAGAGAGGACGTTCCTCTGATATAGTTAC'\n",
    "all = [A,B,C,D,E,F,G]\n",
    "#creating a data recursively calling LCS for each string \n",
    "data = {'0': [lcs(A, i) for i in all], \n",
    "        '1': [lcs(B, i) for i in all],\n",
    "        '2': [lcs(C, i) for i in all],\n",
    "        '3': [lcs(D, i) for i in all],\n",
    "        '4': [lcs(E, i) for i in all],\n",
    "        '5': [lcs(F, i) for i in all], \n",
    "        '6': [lcs(G, i) for i in all]}\n",
    "#diagonal collums shows the comparison of each string with themselves thus it gives the length of the string.\n",
    "#also the table is diagonally symetric becuase comapring 2 with 1 is the same thing as comapring 1 with 2.\n",
    "table = pandas.DataFrame(data, columns = ['0', '1', '2', '3', '4', '5', '6'])\n",
    "table\n"
   ]
  },
  {
   "cell_type": "markdown",
   "metadata": {
    "collapsed": false
   },
   "source": [
    "##### 3.Manually examine the table, and infer the relationships between strings.\n",
    "\n",
    "Based on the given information in the question, new strings are generated by modifying the parent string with a small probability. Therefore we can assume that a string will be most similar to its parent and children strings. We can deduce that there are six parent/child relationships in total in the given set because there will be two parent/child relationships between the root/original string and its children and four parent/child relationships between the children strings and grandchildren strings. To asses the relationships manually, I will identify the other string that highest similarity with a given string.\n",
    "\n",
    "For string_0 ==> (0,6) = 91 \\\n",
    "For string_1 ==> (1,4) = 80 \\\n",
    "For string_2 ==> (2,6) = 84 \\\n",
    "For string_3 ==> (3,4) = 81 \\\n",
    "For string_4 ==> (4,0) = 82 \\\n",
    "For string_5 ==> (5,6) = 97 \\\n",
    "For string_6 ==> (6,5) = 97 \n",
    "\n",
    "Based on this information, I can say that there is a parent/child relationship between these strings. The grandchildren have only one parent/child relationship (with their parent string only), so it will be easier to identify the string that has only one relation as the leaves/the newest generation. I will use reverse engineering and identify the parent strings via backtracking from grandchildren strings. String_5 appeared two times in the list but both of them are in the same relationship thus we can say that string_5 has only one relationship and it is with string_6. Thus we can say that string_5 is the children of string_6. Also, string_2 only has a relation with string_6, so it is also the children of string_6. String_1 and string_3 have only one relation, and it is with string_4 so we can deduce that they are the children of string_4.  Since string_4 and string_6 appeared in three relations in this list, it means that they have three parent/child relationships. For them to have three parent/child relationships, they should be the children string of the original parent string. The original parent string should have two relations because it only has two parent/child relationships since it doesn't have a parent but two children string. Therefore we can deduce that string_0 is the original parent string while string_6 and string_4 are the children of string_0. The relation between the strings based on numbers can be seen below:\n",
    "\n",
    "                                                                              0\n",
    "                                                                            /   \\\n",
    "                                                                           4     6\n",
    "                                                                          / \\   / \\\n",
    "                                                                         1   3 2   5  \n",
    "\n"
   ]
  },
  {
   "cell_type": "markdown",
   "metadata": {
    "collapsed": false
   },
   "source": [
    "##### 4.How would you estimate the probabilities of mutation, insertions and deletions? (There might not be enough data to give meaningful estimates, but at least have a clear idea of the approach.)\n",
    "\n",
    "We know that the result will not be the perfect estimation of the probability because we only have six parent/child relations and it is not enough data to generalize. However, we can come up with a strategy to tackle this problem with a bigger data set. As it is given in the question, we know the possible operations that will lead the modification of the parent string. The three operations that we need to consider are the mutation, insertion, and deletions. This will lead 4 cases as constant, mutation, insertion and deletions. We can check this by comparing the parent and children string starting from the first nitrogen base of each string. \n",
    "\n",
    "We can use the logic behind two other problems to come up with a solution to this question. Firstly, we should examine the alignment game. Alignment game has the simple logic that you start removing starting from the beginning of a string and each time the elements match; you gain a point. In the end, you sum up your points to find your final score. The alignment game will be the strategy for us to identify any kind of changes on the children string. Let's examine the first 17 elements of string_0 and string_6 (because we know that string_0 is the parent of string_6):\n",
    "\n",
    "###### Notations: \n",
    "\"/\" means constant/no change \\\n",
    "\"+\" means mutation \\\n",
    "\"-\" means insertion if it is in the first row \\\n",
    "\"-\" means deletion if it is in the second row \n",
    "\n",
    "CAGCGGGTGCGT-AATTT \n",
    "\n",
    "//-/////+///-///// \n",
    "---\n",
    "CA-CGGGTCCGTCAATTT\n",
    "\n",
    "After we identified the different cases, we can create an undirected graph based on the strategy of the Manatthan tourist problem. We will identify three paths as vertical&deletion, horizontal&insertion, and diagonal&mutation. Therefore we can reconstruct the alignment problem as a path on an undirected graph. The main aim to travel from 1x1 comparison to len(string)xlen(string). If we add a cost to each operation (deletion, insertion, and mutation) as 1, we can create a weighted matrix with the possible operations in the form of movements. If we follow the greedy approach to the Manhattan tourist problem, we would be able to come up with the least possible changes. If we divide the number at the len(string)xlen(string) by len(string), it will give us the estimation of the combined smallest probability of changes (mutation, insertions, and deletions).  \n",
    "\n",
    "\n",
    "Source: Chapter 5: Compeau, P. & Pevzner, P. (2014) How Do We Compare Biological Sequences?. Retrieved from https://www.youtube.com/playlist?list=PLQ-85lQlPqFNmbPEsMoxb5dM5qtRaVShn "
   ]
  },
  {
   "cell_type": "markdown",
   "metadata": {
    "collapsed": false
   },
   "source": [
    "##### 5&6. Can you devise an algorithm in the general case which might be able to infer such a tree of relationships? Give any strengths or weaknesses of your suggested algorithm. Describe the complexity of your solution to identify related “genes” for this assignment. (Let M be the length of a gene, and N be the number of genes.)\n",
    "\n",
    "The main logic that I followed to find the relations between the strings manually was identifying at least one parent/child relationship for each string based on LCS. Assuming that my approach that is based on LCS will yield the right connection between the strings, we can create a nondirected graph and then try to identify the relationship between each string based on their relationship with other strings. Since parent/child relationships show a relationship between two strings, we can attribute this relationship as the edge. The vertexes of this edge will be the strings that are involved in the parent/child relationship. We can create an adjacency list based on LCS as it is given below. If we only use adjacency list, we will have O(2N)  memory complexity which is more efficient than adjacency graphs. The memory complexity will be O(2N) because we will have N strings and N relationship (since the relationships are based on LCS, and we attribute one relationship for each string). However the lookups for edges in adjacency lists has the time complexity of O(N) which is not as efficient as an adjacency graph thus, I might be more useful to use adjacent graphs to find the relations between the strings because as the input size grows, time complexity of O(N) will slow down the process. \n",
    "\n"
   ]
  },
  {
   "cell_type": "code",
   "execution_count": 3,
   "metadata": {
    "collapsed": false
   },
   "outputs": [
    {
     "name": "stdout",
     "output_type": "stream",
     "text": [
      "{'6': [5], '4': [0], '0': [6], '1': [4], '3': [4], '5': [6], '2': [6]}\n"
     ]
    }
   ],
   "source": [
    "#I will define a function to find the second maximum on the list because in the current lcs gives the comparision between string itself,\n",
    "#which obviously the max in all cases. However the second max will give me the parent/child relationship between the original string and\n",
    "#the comapred string\n",
    "def second_max (list):\n",
    "    #finds the index of max \n",
    "    x=list.index(max(list))\n",
    "    #changes max to 0\n",
    "    list[x] = 0\n",
    "    #returns the second max since the original max is 0 now.\n",
    "    return list.index(max(list))\n",
    "\n",
    "#finds at least one parent/chid relationship of the chosen string to create adjeceny list\n",
    "graph = {\"0\": [second_max([lcs(A, i) for i in all])], \n",
    "        \"1\": [second_max([lcs(B, i) for i in all])],\n",
    "        \"2\": [second_max([lcs(C, i) for i in all])],\n",
    "        \"3\": [second_max([lcs(D, i) for i in all])],\n",
    "        \"4\": [second_max([lcs(E, i) for i in all])],\n",
    "        \"5\": [second_max([lcs(F, i) for i in all])],\n",
    "        \"6\": [second_max([lcs(G, i) for i in all])]} \n",
    "print(graph)\n"
   ]
  },
  {
   "cell_type": "markdown",
   "metadata": {
    "collapsed": false
   },
   "source": [
    "After we have the adjacency graph, we can identify the vertexes that have only one edge and identify them like the leaves of the family tree/the newest generation. Therefore we can attribute the direction of the relation between the newest generation and their parent. Then starting from the newest generation, we can use reverse engineering to reach the root/the oldest generation vertex and identify the direction of the edges as we keep calling the algorithm recursively. If we use a graph, we will have O(1) lookup time to find the relationship path from a vertex/string to another vertex/string. If we are biologists who try to identify the number of a generation passed between two vertexes or the path of evolution, it might be a useful operation to have as a part of the algorithm. \n",
    "\n",
    "However, there are several disadvantages to this algorithm. Firstly, it was out of my scope to implement a working algorithm that is generalized to fit various data sets of different size. Secondly, it will require O(N^2) memory space. Also, if the biologist wants to keep editing this graph to keep track of the relations of the strings, it will have O(N^2) time complexity because they have to enter the value for the relation to each string. Also, this information will not be useful because the biologist will already know that the new generation is the child of the previous generation. It might be more useful to use another data structure that has a lower time complexity for adding value such as binary search trees (assuming one string can only have two children).\n",
    "\n",
    "Also, we know that the time complexity of LCS is O(MN) in the worst case because the dynamic programing will minimize the recursion by not solving overlapping subproblems recursively. Since we have to complete LCS for each string (N), we can say that the time complexity for calculating the all of the LCS will be O(MN^2) in addition to above mentioned time complexities. \n"
   ]
  },
  {
   "cell_type": "markdown",
   "metadata": {
    "collapsed": false
   },
   "source": [
    "#### Appendix\n",
    "\n",
    "##### HC applications:\n",
    "\n",
    "##### #deduction:\n",
    "While I was infering the relationships between the strings, I crafted a binary tree as my conclusion. To reach the given conlusion, I test the validty of various premises such as the why the leaves should have only one relationship or why the root/parent shoulh have 2 chid/parent relationships. Identifying premises to anayze the output of my code helped me to reach the conclusion by deduction.\n",
    "\n",
    "##### #estimation:\n",
    "In the part 4 I come up with a technique to estimate the probability of the changes for the parent string.I explained the steps of the estimations and why it would be a good way to estimate the probability. Also I explained why it will give the best possible estimate. \n"
   ]
  }
 ],
 "metadata": {
  "kernelspec": {
   "display_name": "Python 3 (old Anaconda 3)",
   "language": "python",
   "name": "anaconda3"
  }
 },
 "nbformat": 4,
 "nbformat_minor": 0
}